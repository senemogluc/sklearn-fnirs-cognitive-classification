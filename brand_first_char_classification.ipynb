{
 "cells": [
  {
   "cell_type": "code",
   "execution_count": 1,
   "metadata": {},
   "outputs": [],
   "source": [
    "import pandas as pd\n",
    "import seaborn as sns\n",
    "import numpy as np\n",
    "import matplotlib.pyplot as plt"
   ]
  },
  {
   "cell_type": "code",
   "execution_count": 2,
   "metadata": {},
   "outputs": [],
   "source": [
    "PROJECT_PATH = 'data_ite_v1.csv'"
   ]
  },
  {
   "cell_type": "code",
   "execution_count": 4,
   "metadata": {},
   "outputs": [
    {
     "data": {
      "text/html": [
       "<div>\n",
       "<style scoped>\n",
       "    .dataframe tbody tr th:only-of-type {\n",
       "        vertical-align: middle;\n",
       "    }\n",
       "\n",
       "    .dataframe tbody tr th {\n",
       "        vertical-align: top;\n",
       "    }\n",
       "\n",
       "    .dataframe thead th {\n",
       "        text-align: right;\n",
       "    }\n",
       "</style>\n",
       "<table border=\"1\" class=\"dataframe\">\n",
       "  <thead>\n",
       "    <tr style=\"text-align: right;\">\n",
       "      <th></th>\n",
       "      <th>Brand_First_Char</th>\n",
       "      <th>Hbo_Op1</th>\n",
       "      <th>Hbo_Op2</th>\n",
       "      <th>Hbo_Op3</th>\n",
       "      <th>Hbo_Op4</th>\n",
       "      <th>Hbo_Op5</th>\n",
       "      <th>Hbo_Op6</th>\n",
       "      <th>Hbo_Op7</th>\n",
       "      <th>Hbo_Op8</th>\n",
       "      <th>Hbo_Op9</th>\n",
       "      <th>...</th>\n",
       "      <th>Oxy_Op7</th>\n",
       "      <th>Oxy_Op8</th>\n",
       "      <th>Oxy_Op9</th>\n",
       "      <th>Oxy_Op10</th>\n",
       "      <th>Oxy_Op11</th>\n",
       "      <th>Oxy_Op12</th>\n",
       "      <th>Oxy_Op13</th>\n",
       "      <th>Oxy_Op14</th>\n",
       "      <th>Oxy_Op15</th>\n",
       "      <th>Oxy_Op16</th>\n",
       "    </tr>\n",
       "  </thead>\n",
       "  <tbody>\n",
       "    <tr>\n",
       "      <th>0</th>\n",
       "      <td>N</td>\n",
       "      <td>-0.262598</td>\n",
       "      <td>-0.619927</td>\n",
       "      <td>-0.248286</td>\n",
       "      <td>-0.006671</td>\n",
       "      <td>-0.017983</td>\n",
       "      <td>-0.173565</td>\n",
       "      <td>-0.043622</td>\n",
       "      <td>-0.091076</td>\n",
       "      <td>0.105359</td>\n",
       "      <td>...</td>\n",
       "      <td>0.073413</td>\n",
       "      <td>0.095273</td>\n",
       "      <td>0.046544</td>\n",
       "      <td>0.055122</td>\n",
       "      <td>0.102596</td>\n",
       "      <td>-0.036309</td>\n",
       "      <td>-0.035766</td>\n",
       "      <td>0.008657</td>\n",
       "      <td>-0.000563</td>\n",
       "      <td>-0.490804</td>\n",
       "    </tr>\n",
       "    <tr>\n",
       "      <th>1</th>\n",
       "      <td>N</td>\n",
       "      <td>-0.395267</td>\n",
       "      <td>0.001335</td>\n",
       "      <td>-0.578758</td>\n",
       "      <td>-0.006755</td>\n",
       "      <td>-0.500375</td>\n",
       "      <td>-0.545892</td>\n",
       "      <td>-0.413575</td>\n",
       "      <td>-0.285942</td>\n",
       "      <td>-0.250314</td>\n",
       "      <td>...</td>\n",
       "      <td>-0.493665</td>\n",
       "      <td>-0.123367</td>\n",
       "      <td>-0.321700</td>\n",
       "      <td>-0.286262</td>\n",
       "      <td>-0.640002</td>\n",
       "      <td>-0.505478</td>\n",
       "      <td>-1.251273</td>\n",
       "      <td>-0.606763</td>\n",
       "      <td>-0.715185</td>\n",
       "      <td>-0.271742</td>\n",
       "    </tr>\n",
       "    <tr>\n",
       "      <th>2</th>\n",
       "      <td>N</td>\n",
       "      <td>-0.315036</td>\n",
       "      <td>0.000858</td>\n",
       "      <td>-0.277996</td>\n",
       "      <td>-0.006723</td>\n",
       "      <td>0.000567</td>\n",
       "      <td>-0.004692</td>\n",
       "      <td>-0.014951</td>\n",
       "      <td>0.022559</td>\n",
       "      <td>-0.056654</td>\n",
       "      <td>...</td>\n",
       "      <td>0.065354</td>\n",
       "      <td>0.219873</td>\n",
       "      <td>-0.002850</td>\n",
       "      <td>0.065340</td>\n",
       "      <td>-0.025291</td>\n",
       "      <td>-0.010906</td>\n",
       "      <td>-0.035855</td>\n",
       "      <td>-0.549660</td>\n",
       "      <td>-0.549899</td>\n",
       "      <td>-0.453857</td>\n",
       "    </tr>\n",
       "    <tr>\n",
       "      <th>3</th>\n",
       "      <td>N</td>\n",
       "      <td>-0.313166</td>\n",
       "      <td>-0.153458</td>\n",
       "      <td>-0.214679</td>\n",
       "      <td>-0.006712</td>\n",
       "      <td>0.115662</td>\n",
       "      <td>0.073968</td>\n",
       "      <td>0.142529</td>\n",
       "      <td>0.136461</td>\n",
       "      <td>0.170168</td>\n",
       "      <td>...</td>\n",
       "      <td>0.298825</td>\n",
       "      <td>0.372833</td>\n",
       "      <td>0.355605</td>\n",
       "      <td>0.616326</td>\n",
       "      <td>0.526357</td>\n",
       "      <td>0.527409</td>\n",
       "      <td>0.122733</td>\n",
       "      <td>-0.265508</td>\n",
       "      <td>-0.108831</td>\n",
       "      <td>-0.312787</td>\n",
       "    </tr>\n",
       "    <tr>\n",
       "      <th>4</th>\n",
       "      <td>N</td>\n",
       "      <td>0.089333</td>\n",
       "      <td>-0.018636</td>\n",
       "      <td>0.058641</td>\n",
       "      <td>-0.006613</td>\n",
       "      <td>-0.003365</td>\n",
       "      <td>0.009435</td>\n",
       "      <td>0.013813</td>\n",
       "      <td>0.007992</td>\n",
       "      <td>0.021373</td>\n",
       "      <td>...</td>\n",
       "      <td>-0.005889</td>\n",
       "      <td>-0.002794</td>\n",
       "      <td>-0.055797</td>\n",
       "      <td>0.085864</td>\n",
       "      <td>-0.011880</td>\n",
       "      <td>0.130017</td>\n",
       "      <td>0.186452</td>\n",
       "      <td>-0.063011</td>\n",
       "      <td>-0.033269</td>\n",
       "      <td>-0.157341</td>\n",
       "    </tr>\n",
       "  </tbody>\n",
       "</table>\n",
       "<p>5 rows × 65 columns</p>\n",
       "</div>"
      ],
      "text/plain": [
       "  Brand_First_Char   Hbo_Op1   Hbo_Op2   Hbo_Op3   Hbo_Op4   Hbo_Op5  \\\n",
       "0                N -0.262598 -0.619927 -0.248286 -0.006671 -0.017983   \n",
       "1                N -0.395267  0.001335 -0.578758 -0.006755 -0.500375   \n",
       "2                N -0.315036  0.000858 -0.277996 -0.006723  0.000567   \n",
       "3                N -0.313166 -0.153458 -0.214679 -0.006712  0.115662   \n",
       "4                N  0.089333 -0.018636  0.058641 -0.006613 -0.003365   \n",
       "\n",
       "    Hbo_Op6   Hbo_Op7   Hbo_Op8   Hbo_Op9  ...   Oxy_Op7   Oxy_Op8   Oxy_Op9  \\\n",
       "0 -0.173565 -0.043622 -0.091076  0.105359  ...  0.073413  0.095273  0.046544   \n",
       "1 -0.545892 -0.413575 -0.285942 -0.250314  ... -0.493665 -0.123367 -0.321700   \n",
       "2 -0.004692 -0.014951  0.022559 -0.056654  ...  0.065354  0.219873 -0.002850   \n",
       "3  0.073968  0.142529  0.136461  0.170168  ...  0.298825  0.372833  0.355605   \n",
       "4  0.009435  0.013813  0.007992  0.021373  ... -0.005889 -0.002794 -0.055797   \n",
       "\n",
       "   Oxy_Op10  Oxy_Op11  Oxy_Op12  Oxy_Op13  Oxy_Op14  Oxy_Op15  Oxy_Op16  \n",
       "0  0.055122  0.102596 -0.036309 -0.035766  0.008657 -0.000563 -0.490804  \n",
       "1 -0.286262 -0.640002 -0.505478 -1.251273 -0.606763 -0.715185 -0.271742  \n",
       "2  0.065340 -0.025291 -0.010906 -0.035855 -0.549660 -0.549899 -0.453857  \n",
       "3  0.616326  0.526357  0.527409  0.122733 -0.265508 -0.108831 -0.312787  \n",
       "4  0.085864 -0.011880  0.130017  0.186452 -0.063011 -0.033269 -0.157341  \n",
       "\n",
       "[5 rows x 65 columns]"
      ]
     },
     "execution_count": 4,
     "metadata": {},
     "output_type": "execute_result"
    }
   ],
   "source": [
    "dataset = pd.read_csv(PROJECT_PATH)\n",
    "dataset = dataset.drop(['Unnamed: 0','QuestionNumber','Participant','Brand','Participant_Stimuli','ResponseCode'], axis=1)\n",
    "dataset.head()"
   ]
  },
  {
   "cell_type": "code",
   "execution_count": 5,
   "metadata": {},
   "outputs": [],
   "source": [
    "X = dataset.drop(['Brand_First_Char'], axis=1)\n",
    "y = dataset['Brand_First_Char']"
   ]
  },
  {
   "cell_type": "code",
   "execution_count": 6,
   "metadata": {},
   "outputs": [],
   "source": [
    "X['sum_Hbo'] =  X.loc[:, 'Hbo_Op1': 'Hbo_Op16'].sum(axis=1)\n",
    "X['sum_Hbr'] =  X.loc[:, 'Hbr_Op1': 'Hbr_Op16'].sum(axis=1)\n",
    "X['sum_Hbt'] =  X.loc[:, 'Hbt_Op1': 'Hbt_Op16'].sum(axis=1)\n",
    "X['sum_Oxy'] =  X.loc[:, 'Oxy_Op1': 'Oxy_Op16'].sum(axis=1)"
   ]
  },
  {
   "cell_type": "code",
   "execution_count": 7,
   "metadata": {},
   "outputs": [
    {
     "data": {
      "text/plain": [
       "Index(['Hbo_Op1', 'Hbo_Op2', 'Hbo_Op3', 'Hbo_Op4', 'Hbo_Op5', 'Hbo_Op6',\n",
       "       'Hbo_Op7', 'Hbo_Op8', 'Hbo_Op9', 'Hbo_Op10', 'Hbo_Op11', 'Hbo_Op12',\n",
       "       'Hbo_Op13', 'Hbo_Op14', 'Hbo_Op15', 'Hbo_Op16', 'Hbr_Op1', 'Hbr_Op2',\n",
       "       'Hbr_Op3', 'Hbr_Op4', 'Hbr_Op5', 'Hbr_Op6', 'Hbr_Op7', 'Hbr_Op8',\n",
       "       'Hbr_Op9', 'Hbr_Op10', 'Hbr_Op11', 'Hbr_Op12', 'Hbr_Op13', 'Hbr_Op14',\n",
       "       'Hbr_Op15', 'Hbr_Op16', 'Hbt_Op1', 'Hbt_Op2', 'Hbt_Op3', 'Hbt_Op4',\n",
       "       'Hbt_Op5', 'Hbt_Op6', 'Hbt_Op7', 'Hbt_Op8', 'Hbt_Op9', 'Hbt_Op10',\n",
       "       'Hbt_Op11', 'Hbt_Op12', 'Hbt_Op13', 'Hbt_Op14', 'Hbt_Op15', 'Hbt_Op16',\n",
       "       'Oxy_Op1', 'Oxy_Op2', 'Oxy_Op3', 'Oxy_Op4', 'Oxy_Op5', 'Oxy_Op6',\n",
       "       'Oxy_Op7', 'Oxy_Op8', 'Oxy_Op9', 'Oxy_Op10', 'Oxy_Op11', 'Oxy_Op12',\n",
       "       'Oxy_Op13', 'Oxy_Op14', 'Oxy_Op15', 'Oxy_Op16', 'sum_Hbo', 'sum_Hbr',\n",
       "       'sum_Hbt', 'sum_Oxy'],\n",
       "      dtype='object')"
      ]
     },
     "execution_count": 7,
     "metadata": {},
     "output_type": "execute_result"
    }
   ],
   "source": [
    "X.columns"
   ]
  },
  {
   "cell_type": "code",
   "execution_count": 8,
   "metadata": {},
   "outputs": [
    {
     "data": {
      "image/png": "[encoded data removed]",
      "text/plain": [
       "<Figure size 640x480 with 2 Axes>"
      ]
     },
     "metadata": {},
     "output_type": "display_data"
    }
   ],
   "source": [
    "sns.heatmap(pd.DataFrame(X).corr())\n",
    "plt.show()"
   ]
  },
  {
   "cell_type": "code",
   "execution_count": 11,
   "metadata": {},
   "outputs": [],
   "source": [
    "from sklearn.model_selection import train_test_split"
   ]
  },
  {
   "cell_type": "code",
   "execution_count": 12,
   "metadata": {},
   "outputs": [],
   "source": [
    "# Train Test Split\n",
    "\n",
    "Xtrain, Xtest, ytrain, ytest = train_test_split(X, y, random_state=1)"
   ]
  },
  {
   "cell_type": "code",
   "execution_count": 13,
   "metadata": {},
   "outputs": [],
   "source": [
    "from sklearn.preprocessing import StandardScaler"
   ]
  },
  {
   "cell_type": "code",
   "execution_count": 14,
   "metadata": {},
   "outputs": [],
   "source": [
    "# Standard Scaler\n",
    "scaler = StandardScaler()\n",
    "Xtrain_scaled = scaler.fit_transform(Xtrain)\n",
    "Xtest_scaled = scaler.transform(Xtest)"
   ]
  },
  {
   "cell_type": "code",
   "execution_count": 15,
   "metadata": {},
   "outputs": [
    {
     "data": {
      "text/html": [
       "<div>\n",
       "<style scoped>\n",
       "    .dataframe tbody tr th:only-of-type {\n",
       "        vertical-align: middle;\n",
       "    }\n",
       "\n",
       "    .dataframe tbody tr th {\n",
       "        vertical-align: top;\n",
       "    }\n",
       "\n",
       "    .dataframe thead th {\n",
       "        text-align: right;\n",
       "    }\n",
       "</style>\n",
       "<table border=\"1\" class=\"dataframe\">\n",
       "  <thead>\n",
       "    <tr style=\"text-align: right;\">\n",
       "      <th></th>\n",
       "      <th>Hbo_Op1</th>\n",
       "      <th>Hbo_Op2</th>\n",
       "      <th>Hbo_Op3</th>\n",
       "      <th>Hbo_Op4</th>\n",
       "      <th>Hbo_Op5</th>\n",
       "      <th>Hbo_Op6</th>\n",
       "      <th>Hbo_Op7</th>\n",
       "      <th>Hbo_Op8</th>\n",
       "      <th>Hbo_Op9</th>\n",
       "      <th>Hbo_Op10</th>\n",
       "      <th>...</th>\n",
       "      <th>Oxy_Op11</th>\n",
       "      <th>Oxy_Op12</th>\n",
       "      <th>Oxy_Op13</th>\n",
       "      <th>Oxy_Op14</th>\n",
       "      <th>Oxy_Op15</th>\n",
       "      <th>Oxy_Op16</th>\n",
       "      <th>sum_Hbo</th>\n",
       "      <th>sum_Hbr</th>\n",
       "      <th>sum_Hbt</th>\n",
       "      <th>sum_Oxy</th>\n",
       "    </tr>\n",
       "  </thead>\n",
       "  <tbody>\n",
       "    <tr>\n",
       "      <th>0</th>\n",
       "      <td>-1.776161</td>\n",
       "      <td>-2.053333</td>\n",
       "      <td>-1.875134</td>\n",
       "      <td>-1.231261</td>\n",
       "      <td>-1.849703</td>\n",
       "      <td>-2.234118</td>\n",
       "      <td>-1.719632</td>\n",
       "      <td>-1.363498</td>\n",
       "      <td>-2.311888</td>\n",
       "      <td>-1.897975</td>\n",
       "      <td>...</td>\n",
       "      <td>-1.396707</td>\n",
       "      <td>-2.283046</td>\n",
       "      <td>-1.388528</td>\n",
       "      <td>-1.903784</td>\n",
       "      <td>-1.271191</td>\n",
       "      <td>-0.662882</td>\n",
       "      <td>-2.533320</td>\n",
       "      <td>0.237931</td>\n",
       "      <td>-2.112752</td>\n",
       "      <td>-2.396195</td>\n",
       "    </tr>\n",
       "    <tr>\n",
       "      <th>1</th>\n",
       "      <td>0.013548</td>\n",
       "      <td>-0.102743</td>\n",
       "      <td>-0.262490</td>\n",
       "      <td>-0.278298</td>\n",
       "      <td>-0.384308</td>\n",
       "      <td>-0.900896</td>\n",
       "      <td>-0.831991</td>\n",
       "      <td>-1.281766</td>\n",
       "      <td>-0.150167</td>\n",
       "      <td>-1.069292</td>\n",
       "      <td>...</td>\n",
       "      <td>1.724257</td>\n",
       "      <td>-0.288222</td>\n",
       "      <td>0.686301</td>\n",
       "      <td>0.271971</td>\n",
       "      <td>0.012391</td>\n",
       "      <td>0.002814</td>\n",
       "      <td>-0.482659</td>\n",
       "      <td>-0.875057</td>\n",
       "      <td>-0.818217</td>\n",
       "      <td>-0.028703</td>\n",
       "    </tr>\n",
       "    <tr>\n",
       "      <th>2</th>\n",
       "      <td>0.013515</td>\n",
       "      <td>0.192006</td>\n",
       "      <td>-0.022309</td>\n",
       "      <td>-0.231605</td>\n",
       "      <td>0.233090</td>\n",
       "      <td>0.852206</td>\n",
       "      <td>1.185972</td>\n",
       "      <td>1.582665</td>\n",
       "      <td>0.917487</td>\n",
       "      <td>0.683477</td>\n",
       "      <td>...</td>\n",
       "      <td>0.257907</td>\n",
       "      <td>0.344192</td>\n",
       "      <td>0.743925</td>\n",
       "      <td>0.447148</td>\n",
       "      <td>1.047499</td>\n",
       "      <td>0.834538</td>\n",
       "      <td>0.914081</td>\n",
       "      <td>0.527462</td>\n",
       "      <td>1.039337</td>\n",
       "      <td>0.579324</td>\n",
       "    </tr>\n",
       "    <tr>\n",
       "      <th>3</th>\n",
       "      <td>-0.565626</td>\n",
       "      <td>-0.482875</td>\n",
       "      <td>-1.003307</td>\n",
       "      <td>-1.658148</td>\n",
       "      <td>-1.061701</td>\n",
       "      <td>-2.051237</td>\n",
       "      <td>-0.562221</td>\n",
       "      <td>-0.788678</td>\n",
       "      <td>0.880847</td>\n",
       "      <td>0.128501</td>\n",
       "      <td>...</td>\n",
       "      <td>0.396402</td>\n",
       "      <td>-0.116925</td>\n",
       "      <td>1.530004</td>\n",
       "      <td>0.924883</td>\n",
       "      <td>0.551337</td>\n",
       "      <td>2.726017</td>\n",
       "      <td>-0.335713</td>\n",
       "      <td>-2.085517</td>\n",
       "      <td>-1.236097</td>\n",
       "      <td>0.666612</td>\n",
       "    </tr>\n",
       "    <tr>\n",
       "      <th>4</th>\n",
       "      <td>0.204950</td>\n",
       "      <td>0.003109</td>\n",
       "      <td>0.208064</td>\n",
       "      <td>0.280557</td>\n",
       "      <td>0.665538</td>\n",
       "      <td>0.585323</td>\n",
       "      <td>0.308734</td>\n",
       "      <td>1.096009</td>\n",
       "      <td>0.775357</td>\n",
       "      <td>0.295104</td>\n",
       "      <td>...</td>\n",
       "      <td>1.055772</td>\n",
       "      <td>1.097297</td>\n",
       "      <td>1.312754</td>\n",
       "      <td>1.750804</td>\n",
       "      <td>0.029914</td>\n",
       "      <td>0.025746</td>\n",
       "      <td>0.585612</td>\n",
       "      <td>-1.454786</td>\n",
       "      <td>-0.143855</td>\n",
       "      <td>1.204969</td>\n",
       "    </tr>\n",
       "  </tbody>\n",
       "</table>\n",
       "<p>5 rows × 68 columns</p>\n",
       "</div>"
      ],
      "text/plain": [
       "    Hbo_Op1   Hbo_Op2   Hbo_Op3   Hbo_Op4   Hbo_Op5   Hbo_Op6   Hbo_Op7  \\\n",
       "0 -1.776161 -2.053333 -1.875134 -1.231261 -1.849703 -2.234118 -1.719632   \n",
       "1  0.013548 -0.102743 -0.262490 -0.278298 -0.384308 -0.900896 -0.831991   \n",
       "2  0.013515  0.192006 -0.022309 -0.231605  0.233090  0.852206  1.185972   \n",
       "3 -0.565626 -0.482875 -1.003307 -1.658148 -1.061701 -2.051237 -0.562221   \n",
       "4  0.204950  0.003109  0.208064  0.280557  0.665538  0.585323  0.308734   \n",
       "\n",
       "    Hbo_Op8   Hbo_Op9  Hbo_Op10  ...  Oxy_Op11  Oxy_Op12  Oxy_Op13  Oxy_Op14  \\\n",
       "0 -1.363498 -2.311888 -1.897975  ... -1.396707 -2.283046 -1.388528 -1.903784   \n",
       "1 -1.281766 -0.150167 -1.069292  ...  1.724257 -0.288222  0.686301  0.271971   \n",
       "2  1.582665  0.917487  0.683477  ...  0.257907  0.344192  0.743925  0.447148   \n",
       "3 -0.788678  0.880847  0.128501  ...  0.396402 -0.116925  1.530004  0.924883   \n",
       "4  1.096009  0.775357  0.295104  ...  1.055772  1.097297  1.312754  1.750804   \n",
       "\n",
       "   Oxy_Op15  Oxy_Op16   sum_Hbo   sum_Hbr   sum_Hbt   sum_Oxy  \n",
       "0 -1.271191 -0.662882 -2.533320  0.237931 -2.112752 -2.396195  \n",
       "1  0.012391  0.002814 -0.482659 -0.875057 -0.818217 -0.028703  \n",
       "2  1.047499  0.834538  0.914081  0.527462  1.039337  0.579324  \n",
       "3  0.551337  2.726017 -0.335713 -2.085517 -1.236097  0.666612  \n",
       "4  0.029914  0.025746  0.585612 -1.454786 -0.143855  1.204969  \n",
       "\n",
       "[5 rows x 68 columns]"
      ]
     },
     "execution_count": 15,
     "metadata": {},
     "output_type": "execute_result"
    }
   ],
   "source": [
    "scaled_df = pd.DataFrame(Xtrain_scaled, columns = X.columns)\n",
    "scaled_df.head()"
   ]
  },
  {
   "cell_type": "code",
   "execution_count": 16,
   "metadata": {},
   "outputs": [],
   "source": [
    "from sklearn.decomposition import PCA"
   ]
  },
  {
   "cell_type": "code",
   "execution_count": 17,
   "metadata": {},
   "outputs": [],
   "source": [
    "# PCA\n",
    "pca = PCA(n_components = 0.95)\n",
    "Xtrain_pca = pca.fit_transform(Xtrain_scaled)\n",
    "Xtest_pca = pca.transform(Xtest_scaled)"
   ]
  },
  {
   "cell_type": "code",
   "execution_count": 18,
   "metadata": {},
   "outputs": [
    {
     "data": {
      "image/png": "[encoded data removed]",
      "text/plain": [
       "<Figure size 640x480 with 2 Axes>"
      ]
     },
     "metadata": {},
     "output_type": "display_data"
    }
   ],
   "source": [
    "sns.heatmap(pd.DataFrame(Xtrain_pca).corr())\n",
    "plt.show()"
   ]
  },
  {
   "cell_type": "code",
   "execution_count": 19,
   "metadata": {},
   "outputs": [],
   "source": [
    "from sklearn.model_selection import GridSearchCV\n",
    "from sklearn.ensemble        import RandomForestClassifier"
   ]
  },
  {
   "cell_type": "code",
   "execution_count": 20,
   "metadata": {},
   "outputs": [
    {
     "name": "stdout",
     "output_type": "stream",
     "text": [
      "Fitting 5 folds for each of 12 candidates, totalling 60 fits\n"
     ]
    },
    {
     "data": {
      "text/html": [
       "<style>#sk-container-id-1 {color: black;}#sk-container-id-1 pre{padding: 0;}#sk-container-id-1 div.sk-toggleable {background-color: white;}#sk-container-id-1 label.sk-toggleable__label {cursor: pointer;display: block;width: 100%;margin-bottom: 0;padding: 0.3em;box-sizing: border-box;text-align: center;}#sk-container-id-1 label.sk-toggleable__label-arrow:before {content: \"▸\";float: left;margin-right: 0.25em;color: #696969;}#sk-container-id-1 label.sk-toggleable__label-arrow:hover:before {color: black;}#sk-container-id-1 div.sk-estimator:hover label.sk-toggleable__label-arrow:before {color: black;}#sk-container-id-1 div.sk-toggleable__content {max-height: 0;max-width: 0;overflow: hidden;text-align: left;background-color: #f0f8ff;}#sk-container-id-1 div.sk-toggleable__content pre {margin: 0.2em;color: black;border-radius: 0.25em;background-color: #f0f8ff;}#sk-container-id-1 input.sk-toggleable__control:checked~div.sk-toggleable__content {max-height: 200px;max-width: 100%;overflow: auto;}#sk-container-id-1 input.sk-toggleable__control:checked~label.sk-toggleable__label-arrow:before {content: \"▾\";}#sk-container-id-1 div.sk-estimator input.sk-toggleable__control:checked~label.sk-toggleable__label {background-color: #d4ebff;}#sk-container-id-1 div.sk-label input.sk-toggleable__control:checked~label.sk-toggleable__label {background-color: #d4ebff;}#sk-container-id-1 input.sk-hidden--visually {border: 0;clip: rect(1px 1px 1px 1px);clip: rect(1px, 1px, 1px, 1px);height: 1px;margin: -1px;overflow: hidden;padding: 0;position: absolute;width: 1px;}#sk-container-id-1 div.sk-estimator {font-family: monospace;background-color: #f0f8ff;border: 1px dotted black;border-radius: 0.25em;box-sizing: border-box;margin-bottom: 0.5em;}#sk-container-id-1 div.sk-estimator:hover {background-color: #d4ebff;}#sk-container-id-1 div.sk-parallel-item::after {content: \"\";width: 100%;border-bottom: 1px solid gray;flex-grow: 1;}#sk-container-id-1 div.sk-label:hover label.sk-toggleable__label {background-color: #d4ebff;}#sk-container-id-1 div.sk-serial::before {content: \"\";position: absolute;border-left: 1px solid gray;box-sizing: border-box;top: 0;bottom: 0;left: 50%;z-index: 0;}#sk-container-id-1 div.sk-serial {display: flex;flex-direction: column;align-items: center;background-color: white;padding-right: 0.2em;padding-left: 0.2em;position: relative;}#sk-container-id-1 div.sk-item {position: relative;z-index: 1;}#sk-container-id-1 div.sk-parallel {display: flex;align-items: stretch;justify-content: center;background-color: white;position: relative;}#sk-container-id-1 div.sk-item::before, #sk-container-id-1 div.sk-parallel-item::before {content: \"\";position: absolute;border-left: 1px solid gray;box-sizing: border-box;top: 0;bottom: 0;left: 50%;z-index: -1;}#sk-container-id-1 div.sk-parallel-item {display: flex;flex-direction: column;z-index: 1;position: relative;background-color: white;}#sk-container-id-1 div.sk-parallel-item:first-child::after {align-self: flex-end;width: 50%;}#sk-container-id-1 div.sk-parallel-item:last-child::after {align-self: flex-start;width: 50%;}#sk-container-id-1 div.sk-parallel-item:only-child::after {width: 0;}#sk-container-id-1 div.sk-dashed-wrapped {border: 1px dashed gray;margin: 0 0.4em 0.5em 0.4em;box-sizing: border-box;padding-bottom: 0.4em;background-color: white;}#sk-container-id-1 div.sk-label label {font-family: monospace;font-weight: bold;display: inline-block;line-height: 1.2em;}#sk-container-id-1 div.sk-label-container {text-align: center;}#sk-container-id-1 div.sk-container {/* jupyter's `normalize.less` sets `[hidden] { display: none; }` but bootstrap.min.css set `[hidden] { display: none !important; }` so we also need the `!important` here to be able to override the default hidden behavior on the sphinx rendered scikit-learn.org. See: https://github.com/scikit-learn/scikit-learn/issues/21755 */display: inline-block !important;position: relative;}#sk-container-id-1 div.sk-text-repr-fallback {display: none;}</style><div id=\"sk-container-id-1\" class=\"sk-top-container\"><div class=\"sk-text-repr-fallback\"><pre>GridSearchCV(cv=5, estimator=RandomForestClassifier(), n_jobs=-1,\n",
       "             param_grid={&#x27;max_depth&#x27;: [10, 20, 30],\n",
       "                         &#x27;n_estimators&#x27;: [50, 100, 500, 1000]},\n",
       "             verbose=3)</pre><b>In a Jupyter environment, please rerun this cell to show the HTML representation or trust the notebook. <br />On GitHub, the HTML representation is unable to render, please try loading this page with nbviewer.org.</b></div><div class=\"sk-container\" hidden><div class=\"sk-item sk-dashed-wrapped\"><div class=\"sk-label-container\"><div class=\"sk-label sk-toggleable\"><input class=\"sk-toggleable__control sk-hidden--visually\" id=\"sk-estimator-id-1\" type=\"checkbox\" ><label for=\"sk-estimator-id-1\" class=\"sk-toggleable__label sk-toggleable__label-arrow\">GridSearchCV</label><div class=\"sk-toggleable__content\"><pre>GridSearchCV(cv=5, estimator=RandomForestClassifier(), n_jobs=-1,\n",
       "             param_grid={&#x27;max_depth&#x27;: [10, 20, 30],\n",
       "                         &#x27;n_estimators&#x27;: [50, 100, 500, 1000]},\n",
       "             verbose=3)</pre></div></div></div><div class=\"sk-parallel\"><div class=\"sk-parallel-item\"><div class=\"sk-item\"><div class=\"sk-label-container\"><div class=\"sk-label sk-toggleable\"><input class=\"sk-toggleable__control sk-hidden--visually\" id=\"sk-estimator-id-2\" type=\"checkbox\" ><label for=\"sk-estimator-id-2\" class=\"sk-toggleable__label sk-toggleable__label-arrow\">estimator: RandomForestClassifier</label><div class=\"sk-toggleable__content\"><pre>RandomForestClassifier()</pre></div></div></div><div class=\"sk-serial\"><div class=\"sk-item\"><div class=\"sk-estimator sk-toggleable\"><input class=\"sk-toggleable__control sk-hidden--visually\" id=\"sk-estimator-id-3\" type=\"checkbox\" ><label for=\"sk-estimator-id-3\" class=\"sk-toggleable__label sk-toggleable__label-arrow\">RandomForestClassifier</label><div class=\"sk-toggleable__content\"><pre>RandomForestClassifier()</pre></div></div></div></div></div></div></div></div></div></div>"
      ],
      "text/plain": [
       "GridSearchCV(cv=5, estimator=RandomForestClassifier(), n_jobs=-1,\n",
       "             param_grid={'max_depth': [10, 20, 30],\n",
       "                         'n_estimators': [50, 100, 500, 1000]},\n",
       "             verbose=3)"
      ]
     },
     "execution_count": 20,
     "metadata": {},
     "output_type": "execute_result"
    }
   ],
   "source": [
    "# Grid Search for Random Forest Classifier\n",
    "RFC = RandomForestClassifier()\n",
    "\n",
    "paramsRF = {\n",
    "    'n_estimators':[50, 100, 500, 1000],\n",
    "    'max_depth': [10, 20, 30]\n",
    "}\n",
    "\n",
    "gridRFR = GridSearchCV(estimator = RFC, param_grid = paramsRF, cv = 5, verbose = 3, refit = True, n_jobs = -1)\n",
    "\n",
    "gridRFR.fit(Xtrain_scaled, ytrain)"
   ]
  },
  {
   "cell_type": "code",
   "execution_count": 21,
   "metadata": {},
   "outputs": [
    {
     "name": "stdout",
     "output_type": "stream",
     "text": [
      "{'max_depth': 10, 'n_estimators': 50}\n"
     ]
    }
   ],
   "source": [
    "best_params = gridRFR.best_params_\n",
    "print(best_params)"
   ]
  },
  {
   "cell_type": "code",
   "execution_count": 22,
   "metadata": {},
   "outputs": [],
   "source": [
    "from sklearn.metrics import classification_report, confusion_matrix"
   ]
  },
  {
   "cell_type": "code",
   "execution_count": 23,
   "metadata": {},
   "outputs": [],
   "source": [
    "prediction = gridRFR.predict(Xtest_scaled)"
   ]
  },
  {
   "cell_type": "code",
   "execution_count": 24,
   "metadata": {},
   "outputs": [
    {
     "name": "stdout",
     "output_type": "stream",
     "text": [
      "              precision    recall  f1-score   support\n",
      "\n",
      "           N       0.52      0.50      0.51       375\n",
      "           P       0.50      0.61      0.55       368\n",
      "           R       0.38      0.32      0.35       382\n",
      "\n",
      "    accuracy                           0.47      1125\n",
      "   macro avg       0.47      0.47      0.47      1125\n",
      "weighted avg       0.47      0.47      0.47      1125\n",
      "\n",
      "[[186 110  79]\n",
      " [115 121 146]\n",
      " [ 58  86 224]]\n"
     ]
    }
   ],
   "source": [
    "print(classification_report(ytest, prediction))\n",
    "print(confusion_matrix(ytest, prediction, labels = ['N', 'R', 'P']))"
   ]
  }
 ],
 "metadata": {
  "kernelspec": {
   "display_name": ".venv",
   "language": "python",
   "name": "python3"
  },
  "language_info": {
   "codemirror_mode": {
    "name": "ipython",
    "version": 3
   },
   "file_extension": ".py",
   "mimetype": "text/x-python",
   "name": "python",
   "nbconvert_exporter": "python",
   "pygments_lexer": "ipython3",
   "version": "3.11.4"
  }
 },
 "nbformat": 4,
 "nbformat_minor": 2
}
